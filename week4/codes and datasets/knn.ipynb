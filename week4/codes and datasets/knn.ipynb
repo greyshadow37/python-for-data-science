{
 "cells": [
  {
   "cell_type": "code",
   "execution_count": 16,
   "id": "a477a77c-e1bc-47cb-9cc1-a42fe2145f62",
   "metadata": {},
   "outputs": [],
   "source": [
    "# Required packages\n",
    "\n",
    "# To work with dataframes\n",
    "import pandas as pd \n",
    "\n",
    "# To perform numerical operations\n",
    "import numpy as np\n",
    "\n",
    "# To visualize data\n",
    "import seaborn as sns\n",
    "\n",
    "# To partition the data\n",
    "from sklearn.model_selection import train_test_split\n",
    "\n",
    "# importing the library of KNN\n",
    "from sklearn.neighbors import KNeighborsClassifier  \n",
    "\n",
    "# Importing performance metrics - accuracy score & confusion matrix\n",
    "from sklearn.metrics import accuracy_score,confusion_matrix\n"
   ]
  },
  {
   "cell_type": "code",
   "execution_count": 17,
   "id": "15fb78bd-dcfc-4b92-a3ae-27cf4f597acb",
   "metadata": {},
   "outputs": [],
   "source": [
    "# Importing data\n",
    "data = pd.read_csv('income.csv',na_values=[\" ?\"]) "
   ]
  },
  {
   "cell_type": "code",
   "execution_count": 18,
   "id": "0953f104-8fb9-4a43-8d1c-943a6c11a3e7",
   "metadata": {},
   "outputs": [
    {
     "name": "stdout",
     "output_type": "stream",
     "text": [
      "0        0\n",
      "1        0\n",
      "2        1\n",
      "3        0\n",
      "4        0\n",
      "        ..\n",
      "31973    0\n",
      "31974    0\n",
      "31975    0\n",
      "31976    0\n",
      "31977    0\n",
      "Name: SalStat, Length: 30162, dtype: int64\n",
      "['age', 'capitalgain', 'capitalloss', 'hoursperweek', 'SalStat', 'JobType_ Local-gov', 'JobType_ Private', 'JobType_ Self-emp-inc', 'JobType_ Self-emp-not-inc', 'JobType_ State-gov', 'JobType_ Without-pay', 'EdType_ 11th', 'EdType_ 12th', 'EdType_ 1st-4th', 'EdType_ 5th-6th', 'EdType_ 7th-8th', 'EdType_ 9th', 'EdType_ Assoc-acdm', 'EdType_ Assoc-voc', 'EdType_ Bachelors', 'EdType_ Doctorate', 'EdType_ HS-grad', 'EdType_ Masters', 'EdType_ Preschool', 'EdType_ Prof-school', 'EdType_ Some-college', 'maritalstatus_ Married-AF-spouse', 'maritalstatus_ Married-civ-spouse', 'maritalstatus_ Married-spouse-absent', 'maritalstatus_ Never-married', 'maritalstatus_ Separated', 'maritalstatus_ Widowed', 'occupation_ Armed-Forces', 'occupation_ Craft-repair', 'occupation_ Exec-managerial', 'occupation_ Farming-fishing', 'occupation_ Handlers-cleaners', 'occupation_ Machine-op-inspct', 'occupation_ Other-service', 'occupation_ Priv-house-serv', 'occupation_ Prof-specialty', 'occupation_ Protective-serv', 'occupation_ Sales', 'occupation_ Tech-support', 'occupation_ Transport-moving', 'relationship_ Not-in-family', 'relationship_ Other-relative', 'relationship_ Own-child', 'relationship_ Unmarried', 'relationship_ Wife', 'race_ Asian-Pac-Islander', 'race_ Black', 'race_ Other', 'race_ White', 'gender_ Male', 'nativecountry_ Canada', 'nativecountry_ China', 'nativecountry_ Columbia', 'nativecountry_ Cuba', 'nativecountry_ Dominican-Republic', 'nativecountry_ Ecuador', 'nativecountry_ El-Salvador', 'nativecountry_ England', 'nativecountry_ France', 'nativecountry_ Germany', 'nativecountry_ Greece', 'nativecountry_ Guatemala', 'nativecountry_ Haiti', 'nativecountry_ Holand-Netherlands', 'nativecountry_ Honduras', 'nativecountry_ Hong', 'nativecountry_ Hungary', 'nativecountry_ India', 'nativecountry_ Iran', 'nativecountry_ Ireland', 'nativecountry_ Italy', 'nativecountry_ Jamaica', 'nativecountry_ Japan', 'nativecountry_ Laos', 'nativecountry_ Mexico', 'nativecountry_ Nicaragua', 'nativecountry_ Outlying-US(Guam-USVI-etc)', 'nativecountry_ Peru', 'nativecountry_ Philippines', 'nativecountry_ Poland', 'nativecountry_ Portugal', 'nativecountry_ Puerto-Rico', 'nativecountry_ Scotland', 'nativecountry_ South', 'nativecountry_ Taiwan', 'nativecountry_ Thailand', 'nativecountry_ Trinadad&Tobago', 'nativecountry_ United-States', 'nativecountry_ Vietnam', 'nativecountry_ Yugoslavia']\n",
      "['EdType_ HS-grad', 'race_ Other', 'nativecountry_ Italy', 'relationship_ Wife', 'nativecountry_ Hungary', 'EdType_ Masters', 'nativecountry_ Japan', 'nativecountry_ Iran', 'capitalgain', 'relationship_ Not-in-family', 'nativecountry_ Laos', 'nativecountry_ Trinadad&Tobago', 'JobType_ Local-gov', 'occupation_ Prof-specialty', 'nativecountry_ Nicaragua', 'race_ White', 'capitalloss', 'relationship_ Other-relative', 'race_ Asian-Pac-Islander', 'relationship_ Unmarried', 'nativecountry_ Scotland', 'occupation_ Sales', 'nativecountry_ Thailand', 'maritalstatus_ Married-AF-spouse', 'EdType_ Preschool', 'nativecountry_ Canada', 'hoursperweek', 'nativecountry_ India', 'nativecountry_ Outlying-US(Guam-USVI-etc)', 'gender_ Male', 'EdType_ Assoc-voc', 'nativecountry_ South', 'nativecountry_ Puerto-Rico', 'nativecountry_ Ireland', 'race_ Black', 'maritalstatus_ Married-spouse-absent', 'nativecountry_ Haiti', 'EdType_ Bachelors', 'EdType_ 9th', 'nativecountry_ England', 'nativecountry_ Yugoslavia', 'occupation_ Armed-Forces', 'nativecountry_ United-States', 'occupation_ Handlers-cleaners', 'occupation_ Craft-repair', 'EdType_ Prof-school', 'nativecountry_ Columbia', 'occupation_ Farming-fishing', 'nativecountry_ Jamaica', 'nativecountry_ Cuba', 'relationship_ Own-child', 'JobType_ Self-emp-not-inc', 'nativecountry_ Germany', 'nativecountry_ Philippines', 'occupation_ Exec-managerial', 'nativecountry_ Hong', 'nativecountry_ Guatemala', 'EdType_ 5th-6th', 'EdType_ 12th', 'nativecountry_ Peru', 'EdType_ 7th-8th', 'nativecountry_ Taiwan', 'nativecountry_ Portugal', 'maritalstatus_ Separated', 'occupation_ Other-service', 'JobType_ Self-emp-inc', 'nativecountry_ China', 'maritalstatus_ Married-civ-spouse', 'JobType_ State-gov', 'nativecountry_ Mexico', 'EdType_ Some-college', 'occupation_ Protective-serv', 'JobType_ Private', 'nativecountry_ Holand-Netherlands', 'nativecountry_ Ecuador', 'EdType_ 1st-4th', 'occupation_ Transport-moving', 'nativecountry_ Dominican-Republic', 'nativecountry_ Vietnam', 'EdType_ Doctorate', 'age', 'nativecountry_ Poland', 'nativecountry_ El-Salvador', 'EdType_ Assoc-acdm', 'EdType_ 11th', 'maritalstatus_ Widowed', 'nativecountry_ France', 'nativecountry_ Honduras', 'maritalstatus_ Never-married', 'nativecountry_ Greece', 'occupation_ Machine-op-inspct', 'occupation_ Tech-support', 'occupation_ Priv-house-serv', 'JobType_ Without-pay']\n",
      "[0 0 1 ... 0 0 0]\n",
      "[[True False False ... False False False]\n",
      " [True False False ... False False False]\n",
      " [False False False ... False False False]\n",
      " ...\n",
      " [False False False ... False False False]\n",
      " [False False False ... False False False]\n",
      " [False False False ... False False False]]\n"
     ]
    },
    {
     "name": "stderr",
     "output_type": "stream",
     "text": [
      "C:\\Users\\Uday\\AppData\\Local\\Temp\\ipykernel_14456\\1329932330.py:20: SettingWithCopyWarning: \n",
      "A value is trying to be set on a copy of a slice from a DataFrame.\n",
      "Try using .loc[row_indexer,col_indexer] = value instead\n",
      "\n",
      "See the caveats in the documentation: https://pandas.pydata.org/pandas-docs/stable/user_guide/indexing.html#returning-a-view-versus-a-copy\n",
      "  data2['SalStat']=data2['SalStat'].map({' less than or equal to 50,000':0,' greater than 50,000':1})\n"
     ]
    }
   ],
   "source": [
    "# Data pre-processing\n",
    "data.isnull().sum()\n",
    "\n",
    "missing = data[data.isnull().any(axis=1)]\n",
    "# axis=1 => to consider at least one column value is missing in a row\n",
    "\n",
    "\"\"\" Points to note:\n",
    "1. Missing values in Jobtype    = 1809\n",
    "2. Missing values in Occupation = 1816 \n",
    "3. There are 1809 rows where two specific \n",
    "   columns i.e. occupation & JobType have missing values\n",
    "4. (1816-1809) = 7 => You still have occupation unfilled for \n",
    "   these 7 rows. Because, jobtype is Never worked\n",
    "\"\"\"\n",
    "\n",
    "data2 = data.dropna(axis=0)\n",
    "\n",
    "\n",
    "# Reindexing the salary status names to 0,1\n",
    "data2['SalStat']=data2['SalStat'].map({' less than or equal to 50,000':0,' greater than 50,000':1})\n",
    "print(data2['SalStat'])\n",
    "\n",
    "new_data=pd.get_dummies(data2, drop_first=True)\n",
    "\n",
    "# Storing the column names \n",
    "columns_list=list(new_data.columns)\n",
    "print(columns_list)\n",
    "\n",
    "# Separating the input names from data\n",
    "features=list(set(columns_list)-set(['SalStat']))\n",
    "print(features)\n",
    "\n",
    "# Storing the output values in y\n",
    "y=new_data['SalStat'].values\n",
    "print(y)\n",
    "\n",
    "# Storing the values from input features\n",
    "x = new_data[features].values\n",
    "print(x)\n",
    "\n",
    "# Splitting the data into train and test\n",
    "train_x,test_x,train_y,test_y = train_test_split(x,y,test_size=0.3, random_state=0)\n"
   ]
  },
  {
   "cell_type": "code",
   "execution_count": null,
   "id": "a704be44-26ac-4c94-b1f2-a8b617e0e687",
   "metadata": {},
   "outputs": [
    {
     "name": "stdout",
     "output_type": "stream",
     "text": [
      "[[6176  647]\n",
      " [ 808 1418]]\n",
      "0.8392087523483258\n",
      "Misclassified samples: 1455\n"
     ]
    }
   ],
   "source": [
    "# KNN\n",
    "\n",
    "# Storing the K nearest neighbors classifier\n",
    "KNN_classifier = KNeighborsClassifier(n_neighbors = 5)  \n",
    "\n",
    "# Fitting the values for X and Y\n",
    "KNN_classifier.fit(train_x, train_y) \n",
    "\n",
    "# Predicting the test values with model\n",
    "prediction = KNN_classifier.predict(test_x)\n",
    "\n",
    "# Performance metric check\n",
    "confusionMmatrix = confusion_matrix(test_y, prediction)\n",
    "print(confusionMmatrix)\n",
    "\n",
    "# Calculating the accuracy\n",
    "accuracy_score=accuracy_score(test_y, prediction)\n",
    "print(accuracy_score)\n",
    "\n",
    "print('Misclassified samples: %d' % (test_y != prediction).sum())\n",
    "\n",
    "\"\"\"\n",
    "Effect of K value on classifier\n",
    "\"\"\"\n",
    "Misclassified_sample = []\n",
    "# Calculating error for K values between 1 and 20\n",
    "for i in range(1, 20):  \n",
    "    knn = KNeighborsClassifier(n_neighbors=i)\n",
    "    knn.fit(train_x, train_y)\n",
    "    pred_i = knn.predict(test_x)\n",
    "    Misclassified_sample.append((test_y != pred_i).sum())\n",
    "\n",
    "print(Misclassified_sample)"
   ]
  },
  {
   "cell_type": "code",
   "execution_count": null,
   "id": "8cd2b4fe-ac3c-4075-af85-54f29db7fdf0",
   "metadata": {},
   "outputs": [],
   "source": []
  }
 ],
 "metadata": {
  "kernelspec": {
   "display_name": "Python 3 (ipykernel)",
   "language": "python",
   "name": "python3"
  },
  "language_info": {
   "codemirror_mode": {
    "name": "ipython",
    "version": 3
   },
   "file_extension": ".py",
   "mimetype": "text/x-python",
   "name": "python",
   "nbconvert_exporter": "python",
   "pygments_lexer": "ipython3",
   "version": "3.11.7"
  }
 },
 "nbformat": 4,
 "nbformat_minor": 5
}
